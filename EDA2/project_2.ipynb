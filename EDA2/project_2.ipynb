{
 "cells": [
  {
   "cell_type": "markdown",
   "metadata": {},
   "source": [
    "# Introduction"
   ]
  },
  {
   "cell_type": "markdown",
   "metadata": {},
   "source": [
    "This dataset captures detailed traffic patterns across major roads and intersections in Bangalore. It includes metrics such as traffic volume, speed, congestion levels, and environmental impact, providing a comprehensive view of the city's transportation dynamics. Ideal for urban planners and smart city applications."
   ]
  },
  {
   "cell_type": "markdown",
   "metadata": {},
   "source": [
    "## Import Libraries"
   ]
  },
  {
   "cell_type": "code",
   "execution_count": 1,
   "metadata": {},
   "outputs": [],
   "source": [
    "import pandas as pd\n",
    "import matplotlib.pyplot as plt\n",
    "import seaborn as sns \n",
    "import pandas as pd"
   ]
  },
  {
   "cell_type": "markdown",
   "metadata": {},
   "source": [
    "## Import data"
   ]
  },
  {
   "cell_type": "code",
   "execution_count": 2,
   "metadata": {},
   "outputs": [
    {
     "name": "stdout",
     "output_type": "stream",
     "text": [
      "            Date        Area Name Road/Intersection Name  Traffic Volume  \\\n",
      "0     2022-01-01      Indiranagar          100 Feet Road           50590   \n",
      "1     2022-01-01      Indiranagar               CMH Road           30825   \n",
      "2     2022-01-01       Whitefield    Marathahalli Bridge            7399   \n",
      "3     2022-01-01      Koramangala    Sony World Junction           60874   \n",
      "4     2022-01-01      Koramangala          Sarjapur Road           57292   \n",
      "...          ...              ...                    ...             ...   \n",
      "8931  2024-08-09  Electronic City             Hosur Road           11387   \n",
      "8932  2024-08-09        M.G. Road         Trinity Circle           36477   \n",
      "8933  2024-08-09        M.G. Road     Anil Kumble Circle           42822   \n",
      "8934  2024-08-09        Jayanagar       South End Circle           20540   \n",
      "8935  2024-08-09     Yeshwanthpur    Yeshwanthpur Circle           14705   \n",
      "\n",
      "      Average Speed  Travel Time Index  Congestion Level  \\\n",
      "0         50.230299           1.500000        100.000000   \n",
      "1         29.377125           1.500000        100.000000   \n",
      "2         54.474398           1.039069         28.347994   \n",
      "3         43.817610           1.500000        100.000000   \n",
      "4         41.116763           1.500000        100.000000   \n",
      "...             ...                ...               ...   \n",
      "8931      23.440276           1.262384         35.871483   \n",
      "8932      45.168429           1.500000        100.000000   \n",
      "8933      22.028609           1.500000        100.000000   \n",
      "8934      52.254798           1.020520         72.639152   \n",
      "8935      31.128967           1.048720         43.409821   \n",
      "\n",
      "      Road Capacity Utilization  Incident Reports  Environmental Impact  \\\n",
      "0                    100.000000                 0               151.180   \n",
      "1                    100.000000                 1               111.650   \n",
      "2                     36.396525                 0                64.798   \n",
      "3                    100.000000                 1               171.748   \n",
      "4                    100.000000                 3               164.584   \n",
      "...                         ...               ...                   ...   \n",
      "8931                  57.354487                 1                72.774   \n",
      "8932                 100.000000                 3               122.954   \n",
      "8933                 100.000000                 1               135.644   \n",
      "8934                  97.845527                 2                91.080   \n",
      "8935                  77.734621                 1                79.410   \n",
      "\n",
      "      Public Transport Usage  Traffic Signal Compliance  Parking Usage  \\\n",
      "0                  70.632330                  84.044600      85.403629   \n",
      "1                  41.924899                  91.407038      59.983689   \n",
      "2                  44.662384                  61.375541      95.466020   \n",
      "3                  32.773123                  75.547092      63.567452   \n",
      "4                  35.092601                  64.634762      93.155171   \n",
      "...                      ...                        ...            ...   \n",
      "8931               21.523289                  83.530352      97.898279   \n",
      "8932               29.822312                  60.738488      60.355967   \n",
      "8933               43.185905                  85.321627      61.333731   \n",
      "8934               44.416043                  89.586947      79.197198   \n",
      "8935               26.616725                  80.778753      60.602672   \n",
      "\n",
      "      Pedestrian and Cyclist Count Weather Conditions  \\\n",
      "0                              111              Clear   \n",
      "1                              100              Clear   \n",
      "2                              189              Clear   \n",
      "3                              111              Clear   \n",
      "4                              104              Clear   \n",
      "...                            ...                ...   \n",
      "8931                           211                Fog   \n",
      "8932                            95              Clear   \n",
      "8933                           110              Clear   \n",
      "8934                            94              Clear   \n",
      "8935                           201               Rain   \n",
      "\n",
      "     Roadwork and Construction Activity  \n",
      "0                                    No  \n",
      "1                                    No  \n",
      "2                                    No  \n",
      "3                                    No  \n",
      "4                                    No  \n",
      "...                                 ...  \n",
      "8931                                 No  \n",
      "8932                                 No  \n",
      "8933                                 No  \n",
      "8934                                 No  \n",
      "8935                                 No  \n",
      "\n",
      "[8936 rows x 16 columns]\n"
     ]
    }
   ],
   "source": [
    "df = pd.read_csv(\"C:\\Data Science\\Project\\Banglore Traffic.csv\")\n",
    "print(df)"
   ]
  },
  {
   "cell_type": "markdown",
   "metadata": {},
   "source": [
    "### Display first 20 rows"
   ]
  }
 ],
 "metadata": {
  "kernelspec": {
   "display_name": "Python 3",
   "language": "python",
   "name": "python3"
  },
  "language_info": {
   "codemirror_mode": {
    "name": "ipython",
    "version": 3
   },
   "file_extension": ".py",
   "mimetype": "text/x-python",
   "name": "python",
   "nbconvert_exporter": "python",
   "pygments_lexer": "ipython3",
   "version": "3.10.11"
  }
 },
 "nbformat": 4,
 "nbformat_minor": 2
}
